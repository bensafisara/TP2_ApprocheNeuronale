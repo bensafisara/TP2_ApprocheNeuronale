{
  "nbformat": 4,
  "nbformat_minor": 0,
  "metadata": {
    "colab": {
      "name": "TP2.ipynb",
      "provenance": [],
      "collapsed_sections": []
    },
    "kernelspec": {
      "name": "python3",
      "display_name": "Python 3"
    },
    "language_info": {
      "name": "python"
    }
  },
  "cells": [
    {
      "cell_type": "markdown",
      "source": [
        "#                                                 Approches Neuronales – TP 2 \n"
      ],
      "metadata": {
        "id": "tFzpqT5dHAF2"
      }
    },
    {
      "cell_type": "code",
      "source": [
        "import pandas as pd\n",
        "import numpy as np\n",
        "import matplotlib.pyplot as plt\n",
        "import itertools\n",
        "import re\n",
        "import numpy as np\n",
        "import random\n",
        "import math\n",
        "from scipy import linalg"
      ],
      "metadata": {
        "id": "DTG-HZdWWICw"
      },
      "execution_count": 2,
      "outputs": []
    },
    {
      "cell_type": "markdown",
      "source": [
        "En premier j'ai lu 49 données MINES pour train, puis j'ai lu 55 données Rocks puis j'au fussionner les deux et j'ai, créé les fichiers contennant les étiquettes M (49) ou R (55) selon la source de la donnée.\n",
        "\n"
      ],
      "metadata": {
        "id": "hdZo_NSzcTuZ"
      }
    },
    {
      "cell_type": "markdown",
      "source": [
        "**Partie 0 : Lecture et normalisation des données**"
      ],
      "metadata": {
        "id": "ak-T1qmvFKFW"
      }
    },
    {
      "cell_type": "code",
      "source": [
        "#Lecture des sonar.mines TRAIN #pour le test le test line[0]== 'C'\n",
        "\n",
        "#Fonction pour mettre un des valeurs sur la même ligne\n",
        "def grouper(n, A):\n",
        "    it = iter(A)\n",
        "    while True:\n",
        "       nom = tuple(itertools.islice(it, n))\n",
        "       if not nom:\n",
        "           return\n",
        "       yield nom\n",
        "\n",
        "##lecture les données\n",
        "Train=[]\n",
        "Test=[]\n",
        "i=0\n",
        "\n",
        "'''\n",
        "#Train\n",
        "with open(\"/content/drive/MyDrive/M2Avignon/ApprocheNeuronales/Donnees/sonar.mines\") as file:\n",
        "    lines = file.readlines()\n",
        "   \n",
        "for line in lines:\n",
        "    \n",
        "    \n",
        "    if line[0] == '*':\n",
        "      for k in range(1,11):\n",
        "       \n",
        "           \n",
        "          \n",
        "          l = lines[i+k].split()\n",
        "          if len(l) == 6:\n",
        "           Train.extend(l)\n",
        "           Train = [s.replace(\"}\", \"\") for s in Train]\n",
        "           Train = [s.replace(\"{\", \"\") for s in Train]\n",
        "          \n",
        "    i=i+1\n",
        "\n",
        "with open(\"/content/drive/MyDrive/M2Avignon/ApprocheNeuronales/Donnees/Train_MINES.txt\", \"w\") as f:\n",
        "  for chunk in grouper(60, Train):\n",
        "    f.write(\" \".join(str(x) for x in chunk) + \"\\n\")\n",
        "'''\n",
        "\n",
        "#Test\n",
        "#62 données pour mines test\n",
        "with open(\"/content/drive/MyDrive/M2Avignon/ApprocheNeuronales/Donnees/sonar.mines\") as file:\n",
        "    lines = file.readlines()\n",
        "   \n",
        "for line in lines:\n",
        "    \n",
        "    \n",
        "    if line[0] == 'C':\n",
        "      for k in range(1,11):\n",
        "       \n",
        "           \n",
        "          \n",
        "          l = lines[i+k].split()\n",
        "          if len(l) == 6:\n",
        "           Test.extend(l)\n",
        "           Test = [s.replace(\"}\", \"\") for s in Test]\n",
        "           Test = [s.replace(\"{\", \"\") for s in Test]\n",
        "          \n",
        "    i=i+1\n",
        "\n",
        "with open(\"/content/drive/MyDrive/M2Avignon/ApprocheNeuronales/Donnees/Test_MINES.txt\", \"w\") as f:\n",
        "  for chunk in grouper(60, Test):\n",
        "    f.write(\" \".join(str(x) for x in chunk) + \"\\n\")\n"
      ],
      "metadata": {
        "id": "4Gei5s3BzMi-"
      },
      "execution_count": 3,
      "outputs": []
    },
    {
      "cell_type": "code",
      "source": [
        "#Lecture des Train SONAR Rocks \n",
        "#pour le test le test line[0]== 'C'\n",
        "#55 données pour rocks test\n",
        "#42 données pour rocks test\n",
        "\n",
        "def grouper(n, A):\n",
        "    it = iter(A)\n",
        "    while True:\n",
        "       nom = tuple(itertools.islice(it, n))\n",
        "       if not nom:\n",
        "           return\n",
        "       yield nom\n",
        "Train=[]\n",
        "Test=[]\n",
        "\n",
        "'''\n",
        "#Train\n",
        "with open(\"/content/drive/MyDrive/M2Avignon/ApprocheNeuronales/Donnees/sonar.rocks\") as file:\n",
        "    lines = file.readlines()\n",
        "\n",
        "i=0\n",
        "k=0   \n",
        "for line in lines:\n",
        "    if line[0] == '*':\n",
        "      for k in range(1,11):\n",
        "          l = lines[i+k].split()\n",
        "          if len(l) == 6:\n",
        "           Train.extend(l)\n",
        "           Train = [s.replace(\"}\", \"\") for s in Train]\n",
        "           Train = [s.replace(\"{\", \"\") for s in Train]\n",
        "          \n",
        "    i=i+1\n",
        "\n",
        "with open(\"/content/drive/MyDrive/M2Avignon/ApprocheNeuronales/Donnees/TrainRocks.txt\", \"w\") as f:\n",
        "\n",
        " for chunk in grouper(60, Train):\n",
        "    f.write(\" \".join(str(x) for x in chunk) + \"\\n\")\n",
        "'''\n",
        "\n",
        "#Test\n",
        "with open(\"/content/drive/MyDrive/M2Avignon/ApprocheNeuronales/Donnees/sonar.rocks\") as file:\n",
        "    lines = file.readlines()\n",
        "\n",
        "i=0\n",
        "k=0   \n",
        "for line in lines:\n",
        "    if line[0] == 'C':\n",
        "      for k in range(1,11):\n",
        "          l = lines[i+k].split()\n",
        "          if len(l) == 6:\n",
        "           Train.extend(l)\n",
        "           Train = [s.replace(\"}\", \"\") for s in Train]\n",
        "           Train = [s.replace(\"{\", \"\") for s in Train]\n",
        "          \n",
        "    i=i+1\n",
        "\n",
        "with open(\"/content/drive/MyDrive/M2Avignon/ApprocheNeuronales/Donnees/TestRocks.txt\", \"w\") as f:\n",
        "\n",
        " for chunk in grouper(60, Train):\n",
        "    f.write(\" \".join(str(x) for x in chunk) + \"\\n\")"
      ],
      "metadata": {
        "id": "QY7N67WiudPr"
      },
      "execution_count": 4,
      "outputs": []
    },
    {
      "cell_type": "markdown",
      "source": [
        "# **Partie 1**"
      ],
      "metadata": {
        "id": "L9Jzq_ppFV0A"
      }
    },
    {
      "cell_type": "code",
      "source": [
        "#Loader les données\n",
        "#comme dans le TP précédant j'avais établie deux classes -1 et 1 mes deux classes seront alors 1=M et -1=R\n",
        "TrainEtiq = np.genfromtxt('/content/drive/MyDrive/M2Avignon/ApprocheNeuronales/Donnees/etiqTrain.txt',dtype='str')\n",
        "TrainData = np.loadtxt(\"/content/drive/MyDrive/M2Avignon/ApprocheNeuronales/Donnees/train.txt\")\n",
        "\n",
        "\n",
        "TestData = np.loadtxt(\"/content/drive/MyDrive/M2Avignon/ApprocheNeuronales/Donnees/test.txt\")\n",
        "TestEtiq = np.loadtxt(\"/content/drive/MyDrive/M2Avignon/ApprocheNeuronales/Donnees/etiq_test.txt\")\n"
      ],
      "metadata": {
        "id": "a3VPJP9t7o61"
      },
      "execution_count": 5,
      "outputs": []
    },
    {
      "cell_type": "code",
      "source": [
        "#Les transformer en float\n",
        "TrainEtiq = TrainEtiq.astype(np.int)\n",
        "print(TrainEtiq)\n",
        "print(TrainData)"
      ],
      "metadata": {
        "colab": {
          "base_uri": "https://localhost:8080/"
        },
        "id": "b1TBAMQI_5gP",
        "outputId": "47665a13-2723-4c05-f114-1ac4db5f9153"
      },
      "execution_count": 6,
      "outputs": [
        {
          "output_type": "stream",
          "name": "stdout",
          "text": [
            "[ 1  1  1  1  1  1  1  1  1  1  1  1  1  1  1  1  1  1  1  1  1  1  1  1\n",
            "  1  1  1  1  1  1  1  1  1  1  1  1  1  1  1  1  1  1  1  1  1  1  1  1\n",
            "  1 -1 -1 -1 -1 -1 -1 -1 -1 -1 -1 -1 -1 -1 -1 -1 -1 -1 -1 -1 -1 -1 -1 -1\n",
            " -1 -1 -1 -1 -1 -1 -1 -1 -1 -1 -1 -1 -1 -1 -1 -1 -1 -1 -1 -1 -1 -1 -1 -1\n",
            " -1 -1 -1 -1 -1 -1 -1 -1]\n",
            "[[0.0491 0.0279 0.0592 ... 0.014  0.0332 0.0439]\n",
            " [0.1313 0.2339 0.3059 ... 0.0127 0.0178 0.0231]\n",
            " [0.0629 0.1065 0.1526 ... 0.0057 0.0113 0.0131]\n",
            " ...\n",
            " [0.026  0.0192 0.0254 ... 0.0008 0.0044 0.0077]\n",
            " [0.0459 0.0437 0.0347 ... 0.0085 0.0117 0.0056]\n",
            " [0.0291 0.04   0.0771 ... 0.0081 0.0139 0.0111]]\n"
          ]
        },
        {
          "output_type": "stream",
          "name": "stderr",
          "text": [
            "/usr/local/lib/python3.7/dist-packages/ipykernel_launcher.py:2: DeprecationWarning: `np.int` is a deprecated alias for the builtin `int`. To silence this warning, use `int` by itself. Doing this will not modify any behavior and is safe. When replacing `np.int`, you may wish to use e.g. `np.int64` or `np.int32` to specify the precision. If you wish to review your current use, check the release note link for additional information.\n",
            "Deprecated in NumPy 1.20; for more details and guidance: https://numpy.org/devdocs/release/1.20.0-notes.html#deprecations\n",
            "  \n"
          ]
        }
      ]
    },
    {
      "cell_type": "markdown",
      "source": [
        "# J'ai choisie la version Online\n",
        " Car le coût de calcul est plus faible en utilisant ONLINE puisque le nombre des itérations est toujours inférieure à ceux de la version BATCH"
      ],
      "metadata": {
        "id": "IKP_7ii7FvO0"
      }
    },
    {
      "cell_type": "code",
      "source": [
        "#version online\n",
        "def classeCorrectementVecteur(vect1,vect2):\n",
        "  if np.array_equal(vect1,vect2):\n",
        "    \n",
        "      return True \n",
        "  return False\n",
        "\n",
        "\n",
        "def versionOnline(W,alph,X,etiq):\n",
        "  pred=np.ones(len(X))\n",
        "  \n",
        "  IT=0\n",
        "  while not classeCorrectementVecteur(etiq, pred):\n",
        "    i=random.randint(0, len(X) - 1)#car les vecteurs commence de 0 à n-1\n",
        "    x_ = np.append(1, X[i])\n",
        "    IT+=1\n",
        "    Dw=0\n",
        "    if np.transpose(W).dot(x_)> 0 :\n",
        "       pred[i]=1\n",
        "    else:\n",
        "       pred[i]=-1\n",
        "    if pred[i] != etiq[i] :\n",
        "      Dw = x_.dot(alph*(etiq[i]-pred[i]))\n",
        "    W=W+Dw\n",
        "      \n",
        "  print(IT)\n",
        "  return W,pred"
      ],
      "metadata": {
        "id": "C5mvrjM-dy5u"
      },
      "execution_count": 7,
      "outputs": []
    },
    {
      "cell_type": "code",
      "source": [
        "#Fonction pour  génerer le vecteur W \n",
        "def genererW(P, N):\n",
        "    #si je n'effectue pas la normalisation mes algo ne s'arrete quasiment pas car beaucoup de valeurs après la virgule\n",
        "    W = np.random.randint(-100,100,N+1)/100\n",
        "    return   W"
      ],
      "metadata": {
        "id": "I5rLul9hZKpY"
      },
      "execution_count": 8,
      "outputs": []
    },
    {
      "cell_type": "code",
      "source": [
        "#pour tester l'apprentissage ce qui nous donne\n",
        "def TrouverEtiquette(W,x):\n",
        "  ones = np.ones((len(x),1))\n",
        "  x_ = np.append(ones,x,axis=1)\n",
        "  pred=np.ones(len(x_))\n",
        "  res =x_.dot(W)\n",
        "  #J'utilise np.sign ou lieu de faire une comparaison une par une\n",
        "  etiq = np.sign(res)\n",
        "  \n",
        "  return  etiq\n"
      ],
      "metadata": {
        "id": "tuz_-GJ_URGQ"
      },
      "execution_count": 9,
      "outputs": []
    },
    {
      "cell_type": "code",
      "source": [
        "'''L'erreur de généralisation = l'erreur sur de nouvelles données\n",
        "   comme par exemple : (Ea=10,8,6 fautes) alors on doit calculer combier y'a t'il de fautes.\n",
        "'''\n",
        "def Error(Etiq , predicted):\n",
        "\n",
        "  return (Etiq != predicted).sum()\n",
        "\n",
        "def generalisation(NBtot,NbErr) :\n",
        "    NbBienClasse=NBtot-NbErr\n",
        "    return NbBienClasse/NBtot"
      ],
      "metadata": {
        "id": "-9HcGxZciKdi"
      },
      "execution_count": 10,
      "outputs": []
    },
    {
      "cell_type": "code",
      "source": [
        "N = 60 #les colonnes\n",
        "P = 104 #les lignes\n",
        "alph = 0.01   \n",
        "W_=genererW(P, N)\n",
        "\n",
        "\n",
        "#1). Apprentissage  sur  « train »\n",
        "W1 ,pred1 = versionOnline(W_,alph,TrainData,TrainEtiq)\n"
      ],
      "metadata": {
        "id": "btwW5eaJ5Drw",
        "colab": {
          "base_uri": "https://localhost:8080/"
        },
        "outputId": "b11fbd16-0e72-4c39-f1fb-3be93de7d2d1"
      },
      "execution_count": 11,
      "outputs": [
        {
          "output_type": "stream",
          "name": "stdout",
          "text": [
            "112159\n"
          ]
        }
      ]
    },
    {
      "cell_type": "code",
      "source": [
        "print(W1)"
      ],
      "metadata": {
        "colab": {
          "base_uri": "https://localhost:8080/"
        },
        "id": "0bWKcbW8_JrV",
        "outputId": "70a3bbd6-8fdb-463b-ef97-28c44dfa68c6"
      },
      "execution_count": 12,
      "outputs": [
        {
          "output_type": "stream",
          "name": "stdout",
          "text": [
            "[-0.62      0.321112  1.311786  0.852308  0.386     0.898588  0.184498\n",
            "  0.124354 -1.067576  0.015672  0.768406  0.108716  0.139172  0.106714\n",
            " -0.148046  0.455992 -1.068554 -0.711682  1.575312 -0.350816 -0.105636\n",
            " -0.171094  0.288502 -0.30584   0.644714  0.008436 -0.104706  0.104668\n",
            " -0.175152 -0.116612  1.267892 -1.889016  1.338556 -0.926636  0.533326\n",
            " -0.359322 -0.116036 -0.217144 -0.054468  0.979204 -0.94651   0.424094\n",
            " -0.129438  0.036264 -0.546578  0.796746  0.742158 -0.535704  1.066706\n",
            "  2.104716 -1.364506 -0.572488 -0.192442  1.025616 -0.088064  0.76711\n",
            " -0.592926  0.656586  1.16481  -0.92717  -0.496642]\n"
          ]
        }
      ]
    },
    {
      "cell_type": "code",
      "source": [
        "#a.1) Ici nous allons trouver les etiquettes avec les Data d'apprentissage SUR lesquels il a appris\n",
        "EtiquettePrediteTrain = TrouverEtiquette(W1,TrainData)\n",
        "Ea = Error(TrainEtiq,EtiquettePrediteTrain)\n",
        "print(\"Erreur d'apprentissage\",Ea)\n",
        "\n",
        "'''\n",
        "Exemple :\n",
        "Erreur d'apprentissage 2\n",
        "'''"
      ],
      "metadata": {
        "id": "hGciYGrMiric",
        "colab": {
          "base_uri": "https://localhost:8080/",
          "height": 53
        },
        "outputId": "f72ca0e0-c9d5-414d-8029-9b172489b0dd"
      },
      "execution_count": 13,
      "outputs": [
        {
          "output_type": "stream",
          "name": "stdout",
          "text": [
            "Erreur d'apprentissage 3\n"
          ]
        },
        {
          "output_type": "execute_result",
          "data": {
            "application/vnd.google.colaboratory.intrinsic+json": {
              "type": "string"
            },
            "text/plain": [
              "\"\\nExemple :\\nErreur d'apprentissage 2\\n\""
            ]
          },
          "metadata": {},
          "execution_count": 13
        }
      ]
    },
    {
      "cell_type": "code",
      "source": [
        "#a.2)\n",
        "#Trouver etiquette avec les données de Test qui ne connais pas TESTER avec TEST\n",
        "testPrediction=TrouverEtiquette(W1,TestData)\n",
        "\n",
        "#Voir les deux\n",
        "'''\n",
        "print(TestEtiq)\n",
        "print(testPrediction)'''\n",
        "\n",
        "#Compter les erreurs gen\n",
        "NbErr = Error(TestEtiq,testPrediction)\n",
        "print(NbErr)\n",
        "Eg=generalisation(P,NbErr)\n",
        "print(\"Erreur de généralisation\",Eg)\n"
      ],
      "metadata": {
        "colab": {
          "base_uri": "https://localhost:8080/"
        },
        "id": "8sqx1vxo0zm4",
        "outputId": "02f4d242-61c2-4b91-b083-360c556e696b"
      },
      "execution_count": 14,
      "outputs": [
        {
          "output_type": "stream",
          "name": "stdout",
          "text": [
            "22\n",
            "Erreur de généralisation 0.7884615384615384\n"
          ]
        }
      ]
    },
    {
      "cell_type": "code",
      "source": [
        "#b)afficher N+1 Weights\n",
        "print(\"N+1 weights\")\n",
        "print(W1)"
      ],
      "metadata": {
        "colab": {
          "base_uri": "https://localhost:8080/"
        },
        "id": "RjS97hN3vfoI",
        "outputId": "83002249-2f1b-4c5a-b5bb-b900d2441dfd"
      },
      "execution_count": 15,
      "outputs": [
        {
          "output_type": "stream",
          "name": "stdout",
          "text": [
            "N+1 weights\n",
            "[-0.62      0.321112  1.311786  0.852308  0.386     0.898588  0.184498\n",
            "  0.124354 -1.067576  0.015672  0.768406  0.108716  0.139172  0.106714\n",
            " -0.148046  0.455992 -1.068554 -0.711682  1.575312 -0.350816 -0.105636\n",
            " -0.171094  0.288502 -0.30584   0.644714  0.008436 -0.104706  0.104668\n",
            " -0.175152 -0.116612  1.267892 -1.889016  1.338556 -0.926636  0.533326\n",
            " -0.359322 -0.116036 -0.217144 -0.054468  0.979204 -0.94651   0.424094\n",
            " -0.129438  0.036264 -0.546578  0.796746  0.742158 -0.535704  1.066706\n",
            "  2.104716 -1.364506 -0.572488 -0.192442  1.025616 -0.088064  0.76711\n",
            " -0.592926  0.656586  1.16481  -0.92717  -0.496642]\n"
          ]
        }
      ]
    },
    {
      "cell_type": "markdown",
      "source": [
        "Stabilité\n",
        "\n",
        "sachant Une grande stabilité positive assure une certaine robustesse de la réponse du neurone.(reference cours: APPRENTISSAGE ET GENERALISATION...)\n",
        "\n",
        "\n",
        "![Capture.PNG](data:image/png;base64,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)"
      ],
      "metadata": {
        "id": "_YgqSkPhHSYs"
      }
    },
    {
      "cell_type": "code",
      "source": [
        "#c)\n",
        "def Stabilite(etiq,W,X):\n",
        "    X = np.append(np.ones((len(X),1)),X,axis=1)\n",
        "    enum=etiq*np.dot(X,W)\n",
        "    return enum/linalg.norm(W)\n",
        "\n",
        "#Calculer stabilité\n",
        "j=Stabilite(TestEtiq,W1,TestData)\n",
        "print(\"Stabilité\")\n",
        "print(j)"
      ],
      "metadata": {
        "id": "7UBOPx5fGP4i",
        "colab": {
          "base_uri": "https://localhost:8080/"
        },
        "outputId": "359fea29-cde6-41d1-ea24-dadc6404010c"
      },
      "execution_count": 16,
      "outputs": [
        {
          "output_type": "stream",
          "name": "stdout",
          "text": [
            "Stabilité\n",
            "[-5.38070101e-02 -5.09267260e-02 -2.15629286e-02  2.10257832e-02\n",
            " -4.68567908e-02  4.33854886e-02 -1.53793294e-02  1.01855681e-01\n",
            "  1.44419869e-02 -1.61511674e-02  6.65581538e-02 -3.95985606e-03\n",
            "  2.75075541e-02  1.36982702e-02  9.49947134e-02 -3.17419362e-02\n",
            "  2.00084457e-02  1.20780580e-02  1.33895041e-01  1.08084166e-01\n",
            " -7.73755186e-02  6.24854198e-02  5.02774004e-02  3.58871186e-02\n",
            "  1.45599167e-01  1.96254775e-02  7.79666598e-02  7.58293050e-02\n",
            " -3.15974538e-02  1.35071573e-02 -6.43556017e-03 -3.45065196e-02\n",
            "  4.97358581e-02  4.16673571e-02  1.08996882e-02  9.24222738e-02\n",
            " -1.76754464e-02 -2.07822621e-02  3.43215992e-02  5.83255096e-02\n",
            "  6.43857368e-02  1.08779729e-01  1.71920936e-02  1.76537320e-01\n",
            "  9.80981652e-02  1.22043341e-01  9.14546428e-02  8.71443478e-02\n",
            "  2.65403247e-02  3.26200791e-02  2.74926767e-02  1.04333885e-02\n",
            " -2.74355668e-02  5.13282456e-02  4.64851830e-02  6.08043444e-02\n",
            "  1.10158401e-01  4.68199554e-02  4.17783431e-02  3.61299755e-02\n",
            "  3.74520458e-02  1.96314214e-04  6.56211317e-02  7.27443605e-02\n",
            "  1.05108110e-01 -5.65821635e-02 -1.04223209e-01 -8.33085948e-02\n",
            "  9.01068926e-03 -1.05678784e-03  6.33102914e-02  6.95518903e-02\n",
            "  5.23438955e-02  2.05844798e-02  5.49832235e-02  1.94889062e-02\n",
            "  4.96154180e-02  8.86854836e-02  3.30274295e-02  3.19461413e-02\n",
            "  2.86988992e-03  1.65244255e-04  3.79311519e-02  4.84806937e-02\n",
            "  3.97140208e-02  2.16973872e-02  8.75231977e-02  1.64250503e-01\n",
            "  1.34353668e-01  5.48479173e-02  4.54756697e-02  3.99512751e-02\n",
            " -3.94131044e-02  3.19858966e-02  1.06209680e-01  8.66435425e-02\n",
            " -4.64628072e-02 -1.96659311e-03  3.30752498e-03  5.30415189e-02\n",
            "  4.57119943e-02  1.15098844e-01  1.45990506e-02  4.57153989e-02]\n"
          ]
        }
      ]
    },
    {
      "cell_type": "code",
      "source": [
        "#d)\n",
        "def plotstab(s):\n",
        "    plt.hist(s, range=(-0.5, 0.5), bins=10, facecolor='red', alpha=0.5,edgecolor='blue')\n",
        "    plt.show()\n",
        "print(\"Plot de Stabilité\")\n",
        "plotstab(j)\n"
      ],
      "metadata": {
        "colab": {
          "base_uri": "https://localhost:8080/",
          "height": 282
        },
        "id": "by0Jxf-YukVm",
        "outputId": "b759cb6a-14eb-45c8-a65f-68b13ceb51d1"
      },
      "execution_count": 17,
      "outputs": [
        {
          "output_type": "stream",
          "name": "stdout",
          "text": [
            "Plot de Stabilité\n"
          ]
        },
        {
          "output_type": "display_data",
          "data": {
            "image/png": "[encoded data removed]",
            "text/plain": [
              "<Figure size 432x288 with 1 Axes>"
            ]
          },
          "metadata": {
            "needs_background": "light"
          }
        }
      ]
    },
    {
      "cell_type": "code",
      "source": [
        "#pour tester une autre figure\n",
        "x = np.array(range(0, 104))\n",
        "plt.title(\"stabilité\")\n",
        "plt.xlabel(\"X axis\")\n",
        "plt.ylabel(\"Y axis\")\n",
        "plt.plot(x, j, color = \"red\", marker = \"o\", label = \"valeur de stabilité\")\n",
        "plt.legend()\n",
        "plt.show()"
      ],
      "metadata": {
        "colab": {
          "base_uri": "https://localhost:8080/",
          "height": 295
        },
        "id": "Me84MggNsTpU",
        "outputId": "790e6686-12bc-4bdd-f98b-4ced5065c98d"
      },
      "execution_count": 18,
      "outputs": [
        {
          "output_type": "display_data",
          "data": {
            "image/png": "[encoded data removed]",
            "text/plain": [
              "<Figure size 432x288 with 1 Axes>"
            ]
          },
          "metadata": {
            "needs_background": "light"
          }
        }
      ]
    },
    {
      "cell_type": "code",
      "source": [
        "#2. Apprentissage sur « test »\n",
        "W_test=genererW(P, N)\n",
        "W2,pred2 = versionOnline(W_test,alph,TestData,TestEtiq)\n",
        "\n",
        "#a.1)\n",
        "#Ici nous allons trouver les etiquettes avec les Data TEST SUR lesquels il a appris\n",
        "EtiquettePrediteTest = TrouverEtiquette(W2,TestData)\n",
        "Ea_test = Error(TestEtiq,EtiquettePrediteTest)\n",
        "print(\"Erreur d'apprentissage\",Ea_test)\n",
        "\n",
        "\n",
        "\n",
        "#Trouver etiquette avec les données de Train qui ne connais pas TESTER avec Train\n",
        "trainPrediction_=TrouverEtiquette(W2,TrainData)\n",
        "\n",
        "\n",
        "#a.2)\n",
        "#Compter les erreurs generalz\n",
        "NbErr=Error(TrainEtiq,trainPrediction_)\n",
        "print(NbErr)\n",
        "Eg=generalisation(P,NbErr)\n",
        "print(\"Erreur de généralisation\",Eg)\n",
        "\n",
        "\n",
        "\n",
        "\n",
        "#b)Afficher W\n",
        "print(\"N+1 weights\")\n",
        "print(W2)\n",
        "\n",
        "#c) Calculer stabilité\n",
        "j=Stabilite(TrainEtiq,W1,TrainData)\n",
        "print(\"Stabilité\",j)\n",
        "\n",
        "#d)\n",
        "def plotstab(s):\n",
        "    plt.hist(s, range=(-0.5, 0.5), bins=10, facecolor='red', alpha=0.5,edgecolor='blue')\n",
        "    plt.show()\n",
        "print(\"Plot de Stabilité\")\n",
        "plotstab(j)"
      ],
      "metadata": {
        "colab": {
          "base_uri": "https://localhost:8080/",
          "height": 976
        },
        "id": "z_CZoDuAanfc",
        "outputId": "8239f486-83eb-443a-f1cf-ad9d94ee68ba"
      },
      "execution_count": 29,
      "outputs": [
        {
          "output_type": "stream",
          "name": "stdout",
          "text": [
            "24700\n",
            "Erreur d'apprentissage 2\n",
            "28\n",
            "Erreur de généralisation 0.7307692307692307\n",
            "N+1 weights\n",
            "[-0.13     -0.651584  0.851674  0.736046  0.219408 -0.435296 -0.556018\n",
            " -1.369112 -0.419356  1.076214  0.404362  0.695332  0.56621   0.84208\n",
            " -0.618996 -0.15266   0.264772  0.595982 -1.299014  0.409828 -0.300528\n",
            "  0.848834 -0.442864  0.55633  -0.096158 -0.072956 -0.432972 -0.098802\n",
            " -0.046076  0.631456 -0.911808  0.178678  0.204076 -0.270302 -0.297166\n",
            "  0.12116   0.092668 -1.494602  0.617084 -0.038252 -0.060724 -0.21531\n",
            "  0.308158  0.668774  0.846664  0.837994  0.010702  0.13351   0.171596\n",
            "  0.955458 -0.87947  -0.528832  0.016968  0.201336 -0.837694 -0.639152\n",
            " -0.522486 -0.913602  0.381778  0.108166 -0.896778]\n",
            "Stabilité [ 2.23686482e-02  2.24833461e-01  1.51364151e-02  3.06715648e-02\n",
            " -4.95705731e-03  1.12873232e-02  3.70148152e-03  1.94193529e-02\n",
            "  1.19469069e-04  6.03071600e-02  1.97396182e-02  2.48845421e-02\n",
            "  2.50221294e-02  3.16788971e-02  1.15922056e-02  7.36357475e-03\n",
            "  2.68101591e-02  1.00624754e-01  1.80425203e-02  7.47083199e-02\n",
            "  1.14600247e-01  1.83273153e-02  2.15437859e-01  3.50150701e-02\n",
            "  6.43227481e-02  1.95213795e-03  7.42411430e-03  2.15726060e-02\n",
            "  3.34681802e-02  3.22408419e-02  1.00688391e-01  6.41976938e-02\n",
            "  2.72747982e-02  6.80810237e-02  1.77743445e-02  8.13444371e-02\n",
            "  3.26864022e-02  1.43158488e-03 -4.95227372e-03  3.06060449e-02\n",
            "  1.06849998e-01  9.82175966e-02  3.05169693e-02  1.16217173e-02\n",
            "  4.98114939e-03  3.64175934e-02  7.36093672e-02  4.74759138e-02\n",
            "  2.18266210e-02  1.92932099e-02  1.20791470e-01  8.03385940e-03\n",
            "  4.64945316e-03  1.88345758e-02  3.33757388e-02 -1.67162431e-04\n",
            "  1.80955078e-03  1.94119078e-02  2.23627651e-02  1.33096767e-02\n",
            "  2.05771687e-01  2.58025466e-02  1.30574905e-02  1.06878118e-01\n",
            "  5.60033715e-03  1.11016603e-02  5.07293070e-03  4.96750938e-02\n",
            "  3.36306975e-02  3.15857498e-02  2.75427501e-03  1.61122614e-02\n",
            "  1.78958909e-02  8.09403390e-02  3.94834568e-02  1.49859917e-02\n",
            "  5.69818070e-02  1.13037089e-02  8.13108934e-02  8.90243657e-02\n",
            "  5.18997800e-02  4.59545433e-03  3.98885715e-02  5.78266231e-03\n",
            "  2.81112306e-02  7.98499249e-03  3.27489295e-02  2.99156732e-02\n",
            "  2.39042156e-02  1.90471331e-01  4.84189584e-02  4.45347934e-02\n",
            "  6.85139289e-02  5.63313132e-02  1.48836644e-02  2.99739838e-02\n",
            "  1.59883310e-02  9.32739056e-03  6.47414698e-02  7.44033110e-03\n",
            "  6.32159813e-02  3.05937341e-02  3.05666701e-03  4.18763446e-02]\n",
            "Plot de Stabilité\n"
          ]
        },
        {
          "output_type": "display_data",
          "data": {
            "image/png": "[encoded data removed]",
            "text/plain": [
              "<Figure size 432x288 with 1 Axes>"
            ]
          },
          "metadata": {
            "needs_background": "light"
          }
        }
      ]
    },
    {
      "cell_type": "markdown",
      "source": [
        "# **Partie 2 : Pocket**\n",
        "1.   Notre nouvel algorithme Pocket depends de 2 parametre le nombre d'itérations et le nombre d'erreurs.\n",
        "2.   Il garde le meilleur résultat de l’algorithme du perceptron en fonctions des itérations Nb d’erreurs prédéfini."
      ],
      "metadata": {
        "id": "pmglPi_sSFfz"
      }
    },
    {
      "cell_type": "code",
      "source": [
        "#Algo pocket\n",
        "def AlgorithmePocket(X, etiq, alph, N_it, N_Er,W):\n",
        "  \n",
        "  pred=np.ones(len(etiq))#mon tableau d'étiquettes que je vais prédir\n",
        "  X = np.append(np.ones((len(X),1)),X,axis=1)\n",
        "  Dw=0\n",
        "\n",
        "  for i in range(N_it):\n",
        "      res = X.dot(W)\n",
        "      pred=np.sign(res)\n",
        "      \n",
        "      \n",
        "      if  not classeCorrectementVecteur(etiq, pred) :\n",
        "        Dw = np.transpose(X).dot(alph*(etiq-pred))\n",
        "        W=W+Dw\n",
        "\n",
        "      N_Er_Occured = Error(etiq,pred)\n",
        "\n",
        "      if N_Er_Occured <= N_Er :\n",
        "        break;\n",
        "\n",
        "  \n",
        "  return W\n",
        "\n"
      ],
      "metadata": {
        "id": "cLHlGzqTUOSJ"
      },
      "execution_count": 20,
      "outputs": []
    },
    {
      "cell_type": "code",
      "source": [
        "#Fonction pour RAMDON INITIALISATION et Hebb\n",
        "def initialisation(X,N,etiq):\n",
        "    #Random\n",
        "    W_RA = np.random.randint(-100,100,N+1)/100\n",
        "    \n",
        "    \n",
        "    #HEBB\n",
        "    \n",
        "    #Step 1 mettre en place les weights\n",
        "    W_hebb = np.zeros((N+1))\n",
        "    \n",
        "    #Step 2  mettre en place input X\n",
        "    X = np.append(np.ones((len(X),1)),X,axis=1)\n",
        "\n",
        "    #Step 3  mettre en place pred\n",
        "    pred=etiq\n",
        "\n",
        "    for i in range(len(X)):\n",
        "     \n",
        "      #Step 4 w(nouveau) = w(vieux) + xi*yi  \n",
        "      W_hebb=W_hebb+(X[i]*pred[i])\n",
        "\n",
        "    \n",
        "    W_hebb=W_hebb/100\n",
        "      \n",
        "\n",
        "    return W_RA,W_hebb\n",
        "\n",
        "\n",
        "\n"
      ],
      "metadata": {
        "id": "hawh_ErOcEgI"
      },
      "execution_count": 21,
      "outputs": []
    },
    {
      "cell_type": "markdown",
      "source": [
        "#APPRENTISSAGE TRAIN et Test avec \n",
        "- Alpha = 0.7 , 0.4 , 0.01\n",
        "- Erreurlimit = 3, 6 , 8 , 10\n",
        "- Et selon les deux initialisation\n",
        "- nombre iteration = 8000"
      ],
      "metadata": {
        "id": "zHh7hfEexkp4"
      }
    },
    {
      "cell_type": "code",
      "source": [
        "####################################################### APPRENTISSAGE TRAIN ######################################################################\n",
        "\n",
        "#Run Pocket with 2 initialisation    \n",
        "W_RA,W_hebb = initialisation(TrainData,N,TrainEtiq)\n",
        "\n",
        "\n",
        "####################################\n",
        "print(\"alph=0.7 Ea_=3\")\n",
        "alph=0.7\n",
        "Ea_=3\n",
        "\n",
        "print(\"random\")\n",
        "#Initialisation Random\n",
        "W_pocketRandom = AlgorithmePocket(TrainData, TrainEtiq, alph, 8000, Ea_, W_RA)\n",
        "\n",
        "#-------------------------------------------------------------\n",
        "EtiquettePredite_1 = TrouverEtiquette(W_pocketRandom,TrainData)\n",
        "Ea_1 = Error(TrainEtiq,EtiquettePredite_1)\n",
        "print(\"Erreur d'apprentissage\",Ea_1)\n",
        "#---\n",
        "EtiquettePredite_2=TrouverEtiquette(W_pocketRandom,TestData)\n",
        "Eg_1 = Error(TestEtiq,EtiquettePredite_2)\n",
        "print(\"Erreur de généralisation\",Eg_1)\n",
        "\n",
        "#-------------------------------------------------------------\n",
        "\n",
        "\n",
        "print(\"hebb\")\n",
        "#Initialisation Hebb\n",
        "W_pocketHEBB = AlgorithmePocket(TrainData, TrainEtiq, alph, 8000, Ea_, W_hebb)\n",
        "\n",
        "#-------------------------------------------------------------\n",
        "EtiquettePredite_3 = TrouverEtiquette(W_pocketHEBB,TrainData)\n",
        "Ea_2 = Error(TrainEtiq,EtiquettePredite_3)\n",
        "print(\"Erreur d'apprentissage\",Ea_2)\n",
        "#---\n",
        "EtiquettePredite_4=TrouverEtiquette(W_pocketHEBB,TestData)\n",
        "Eg_2 = Error(TestEtiq,EtiquettePredite_4)\n",
        "print(\"Erreur de généralisation\",Eg_2)\n",
        "#-------------------------------------------------------------\n",
        "\n",
        "\n",
        "\n",
        "####################################\n",
        "print(\"alph=0.4 Ea_=3\")\n",
        "\n",
        "alph=0.4\n",
        "Ea_=3\n",
        "\n",
        "print(\"random\")\n",
        "#Initialisation Random\n",
        "W_pocketRandom = AlgorithmePocket(TrainData, TrainEtiq, alph, 8000, Ea_, W_RA)\n",
        "\n",
        "#-------------------------------------------------------------\n",
        "EtiquettePredite_9 = TrouverEtiquette(W_pocketRandom,TrainData)\n",
        "Ea_5 = Error(TrainEtiq,EtiquettePredite_9 )\n",
        "print(\"Erreur d'apprentissage\",Ea_5)\n",
        "#---\n",
        "EtiquettePredite_10=TrouverEtiquette(W_pocketRandom,TestData)\n",
        "Eg_5 = Error(TestEtiq,EtiquettePredite_10)\n",
        "print(\"Erreur de généralisation\",Eg_5)\n",
        "#-------------------------------------------------------------\n",
        "\n",
        "print(\"hebb\")\n",
        "#Initialisation Hebb\n",
        "W_pocketHEBB = AlgorithmePocket(TrainData, TrainEtiq, alph, 8000, Ea_, W_hebb)\n",
        "\n",
        "#-------------------------------------------------------------\n",
        "EtiquettePredite_11 = TrouverEtiquette(W_pocketHEBB,TrainData)\n",
        "Ea_6 = Error(TrainEtiq,EtiquettePredite_11)\n",
        "print(\"Erreur d'apprentissage\",Ea_6)\n",
        "#---\n",
        "EtiquettePredite_12=TrouverEtiquette(W_pocketHEBB,TestData)\n",
        "Eg_6 = Error(TestEtiq,EtiquettePredite_12)\n",
        "print(\"Erreur de généralisation\",Eg_6)\n",
        "#-------------------------------------------------------------\n",
        "\n",
        "\n",
        "####################################\n",
        "print(\"alph=0.01 Ea_=3\")\n",
        "\n",
        "alph=0.01\n",
        "Ea_=3\n",
        "\n",
        "print(\"random\")\n",
        "#Initialisation Random\n",
        "W_pocketRandom = AlgorithmePocket(TrainData, TrainEtiq, alph, 8000, Ea_, W_RA)\n",
        "\n",
        "#-------------------------------------------------------------\n",
        "EtiquettePredite_5 = TrouverEtiquette(W_pocketRandom,TrainData)\n",
        "Ea_3 = Error(TrainEtiq,EtiquettePredite_5 )\n",
        "print(\"Erreur d'apprentissage\",Ea_3)\n",
        "#---\n",
        "EtiquettePredite_6=TrouverEtiquette(W_pocketRandom,TestData)\n",
        "Eg_3 = Error(TestEtiq,EtiquettePredite_6)\n",
        "print(\"Erreur de généralisation\",Eg_3)\n",
        "#-------------------------------------------------------------\n",
        "\n",
        "print(\"hebb\")\n",
        "#Initialisation Hebb\n",
        "W_pocketHEBB = AlgorithmePocket(TrainData, TrainEtiq, alph, 8000, Ea_, W_hebb)\n",
        "\n",
        "#-------------------------------------------------------------\n",
        "EtiquettePredite_7 = TrouverEtiquette(W_pocketHEBB,TrainData)\n",
        "Ea_4 = Error(TrainEtiq,EtiquettePredite_7)\n",
        "print(\"Erreur d'apprentissage\",Ea_4)\n",
        "#---\n",
        "EtiquettePredite_8=TrouverEtiquette(W_pocketHEBB,TestData)\n",
        "Eg_4 = Error(TestEtiq,EtiquettePredite_8)\n",
        "print(\"Erreur de généralisation\",Eg_4)\n",
        "#-------------------------------------------------------------\n",
        "\n",
        "\n",
        "\n",
        "\n",
        "\n"
      ],
      "metadata": {
        "colab": {
          "base_uri": "https://localhost:8080/"
        },
        "id": "x7Gs8gXGfXJ7",
        "outputId": "1551ffd1-a3c1-41b2-e39a-7dd811b96d46"
      },
      "execution_count": 28,
      "outputs": [
        {
          "output_type": "stream",
          "name": "stdout",
          "text": [
            "alph=0.7 Ea_=3\n",
            "random\n",
            "Erreur d'apprentissage 11\n",
            "Erreur de généralisation 23\n",
            "hebb\n",
            "Erreur d'apprentissage 20\n",
            "Erreur de généralisation 21\n",
            "alph=0.4 Ea_=3\n",
            "random\n",
            "Erreur d'apprentissage 27\n",
            "Erreur de généralisation 21\n",
            "hebb\n",
            "Erreur d'apprentissage 25\n",
            "Erreur de généralisation 30\n",
            "alph=0.01 Ea_=3\n",
            "random\n",
            "Erreur d'apprentissage 10\n",
            "Erreur de généralisation 23\n",
            "hebb\n",
            "Erreur d'apprentissage 9\n",
            "Erreur de généralisation 23\n"
          ]
        }
      ]
    },
    {
      "cell_type": "code",
      "source": [
        "####################################################### APPRENTISSAGE sur TEST  ######################################################################\n",
        "\n",
        "#Run Pocket with 2 initialisation    \n",
        "W_RA,W_hebb = initialisation(TestData,N,TestEtiq)\n",
        "\n",
        "\n",
        "####################################\n",
        "print(\"alph=0.7 Ea_=3\")\n",
        "alph=0.7\n",
        "Ea_=3\n",
        "\n",
        "print(\"random\")\n",
        "#Initialisation Random\n",
        "W_pocketRandom = AlgorithmePocket(TestData, TestEtiq, alph, 8000, Ea_, W_RA)\n",
        "\n",
        "#-------------------------------------------------------------\n",
        "EtiquettePredite_1 = TrouverEtiquette(W_pocketRandom,TestData)\n",
        "Ea_1 = Error(TestEtiq,EtiquettePredite_1)\n",
        "print(\"Erreur d'apprentissage\",Ea_1)\n",
        "#---\n",
        "EtiquettePredite_2=TrouverEtiquette(W_pocketRandom,TrainData)\n",
        "Eg_1 = Error(TrainEtiq,EtiquettePredite_2)\n",
        "print(\"Erreur de généralisation\",Eg_1)\n",
        "#-------------------------------------------------------------\n",
        "\n",
        "\n",
        "print(\"hebb\")\n",
        "#Initialisation Hebb\n",
        "W_pocketHEBB = AlgorithmePocket(TestData, TestEtiq, alph, 8000, Ea_, W_hebb)\n",
        "\n",
        "#-------------------------------------------------------------\n",
        "EtiquettePredite_3 = TrouverEtiquette(W_pocketHEBB,TestData)\n",
        "Ea_2 = Error(TestEtiq,EtiquettePredite_3)\n",
        "print(\"Erreur d'apprentissage\",Ea_2)\n",
        "#---\n",
        "EtiquettePredite_4=TrouverEtiquette(W_pocketHEBB,TrainData)\n",
        "Eg_2 = Error(TrainEtiq,EtiquettePredite_4)\n",
        "print(\"Erreur de généralisation\",Eg_2)\n",
        "#-------------------------------------------------------------\n",
        "\n",
        "\n",
        "\n",
        "####################################\n",
        "print(\"alph=0.4 Ea_=3\")\n",
        "\n",
        "alph=0.4\n",
        "Ea_=3\n",
        "\n",
        "print(\"random\")\n",
        "#Initialisation Random\n",
        "W_pocketRandom = AlgorithmePocket(TestData, TestEtiq, alph, 8000, Ea_, W_RA)\n",
        "\n",
        "#-------------------------------------------------------------\n",
        "EtiquettePredite_9 = TrouverEtiquette(W_pocketRandom,TestData)\n",
        "Ea_5 = Error(TestEtiq,EtiquettePredite_9 )\n",
        "print(\"Erreur d'apprentissage\",Ea_5)\n",
        "#---\n",
        "EtiquettePredite_10=TrouverEtiquette(W_pocketRandom,TrainData)\n",
        "Eg_5 = Error(TrainEtiq,EtiquettePredite_10)\n",
        "print(\"Erreur de généralisation\",Eg_5)\n",
        "#-------------------------------------------------------------\n",
        "\n",
        "print(\"hebb\")\n",
        "#Initialisation Hebb\n",
        "W_pocketHEBB = AlgorithmePocket(TestData, TestEtiq, alph, 8000, Ea_, W_hebb)\n",
        "\n",
        "#-------------------------------------------------------------\n",
        "EtiquettePredite_11 = TrouverEtiquette(W_pocketHEBB,TestData)\n",
        "Ea_6 = Error(TestEtiq,EtiquettePredite_11)\n",
        "print(\"Erreur d'apprentissage\",Ea_6)\n",
        "#---\n",
        "EtiquettePredite_12=TrouverEtiquette(W_pocketHEBB,TrainData)\n",
        "Eg_6 = Error(TrainEtiq,EtiquettePredite_12)\n",
        "print(\"Erreur de généralisation\",Eg_6)\n",
        "#-------------------------------------------------------------\n",
        "\n",
        "\n",
        "####################################\n",
        "print(\"alph=0.01 Ea_=3\")\n",
        "\n",
        "alph=0.01\n",
        "Ea_=3\n",
        "\n",
        "print(\"random\")\n",
        "#Initialisation Random\n",
        "W_pocketRandom = AlgorithmePocket(TestData, TestEtiq, alph, 8000, Ea_, W_RA)\n",
        "\n",
        "#-------------------------------------------------------------\n",
        "EtiquettePredite_5 = TrouverEtiquette(W_pocketRandom,TestData)\n",
        "Ea_3 = Error(TestEtiq,EtiquettePredite_5 )\n",
        "print(\"Erreur d'apprentissage\",Ea_3)\n",
        "#---\n",
        "EtiquettePredite_6=TrouverEtiquette(W_pocketRandom,TrainData)\n",
        "Eg_3 = Error(TrainEtiq,EtiquettePredite_6)\n",
        "print(\"Erreur de généralisation\",Eg_3)\n",
        "#-------------------------------------------------------------\n",
        "\n",
        "print(\"hebb\")\n",
        "#Initialisation Hebb\n",
        "W_pocketHEBB = AlgorithmePocket(TestData, TestEtiq, alph, 8000, Ea_, W_hebb)\n",
        "\n",
        "#-------------------------------------------------------------\n",
        "EtiquettePredite_7 = TrouverEtiquette(W_pocketHEBB,TestData)\n",
        "Ea_4 = Error(TestEtiq,EtiquettePredite_7)\n",
        "print(\"Erreur d'apprentissage\",Ea_4)\n",
        "#---\n",
        "EtiquettePredite_8=TrouverEtiquette(W_pocketHEBB,TrainData)\n",
        "Eg_4 = Error(TrainEtiq,EtiquettePredite_8)\n",
        "print(\"Erreur de généralisation\",Eg_4)\n",
        "#-------------------------------------------------------------"
      ],
      "metadata": {
        "colab": {
          "base_uri": "https://localhost:8080/"
        },
        "id": "B347kU7ZReaB",
        "outputId": "9deb0f7a-4c60-4b59-925c-e90a86f093a3"
      },
      "execution_count": 23,
      "outputs": [
        {
          "output_type": "stream",
          "name": "stdout",
          "text": [
            "alph=0.7 Ea_=3\n",
            "random\n",
            "Erreur d'apprentissage 4\n",
            "Erreur de généralisation 23\n",
            "hebb\n",
            "Erreur d'apprentissage 6\n",
            "Erreur de généralisation 23\n",
            "alph=0.4 Ea_=3\n",
            "random\n",
            "Erreur d'apprentissage 6\n",
            "Erreur de généralisation 22\n",
            "hebb\n",
            "Erreur d'apprentissage 5\n",
            "Erreur de généralisation 22\n",
            "alph=0.01 Ea_=3\n",
            "random\n",
            "Erreur d'apprentissage 5\n",
            "Erreur de généralisation 22\n",
            "hebb\n",
            "Erreur d'apprentissage 5\n",
            "Erreur de généralisation 21\n"
          ]
        }
      ]
    },
    {
      "cell_type": "markdown",
      "source": [
        "# Partie 3 "
      ],
      "metadata": {
        "id": "EwvAXz1ZRllv"
      }
    },
    {
      "cell_type": "markdown",
      "source": [
        "Apprentissage  sur « train + test ».  Utiliser l’algorithme du perceptron pour  apprendre l’ensemble fusionné L = train + test (avec les classes tau)\n",
        "L’ensemble L est LS ou pas LS ? Justifier votre réponse en fonction des calculs de vos programmes"
      ],
      "metadata": {
        "id": "Lv_VqiUH6CkS"
      }
    },
    {
      "cell_type": "code",
      "source": [
        "TrainTestData = np.loadtxt(\"/content/drive/MyDrive/M2Avignon/ApprocheNeuronales/Donnees/train_test.txt\")\n",
        "TrainTestTestEtiq = np.loadtxt(\"/content/drive/MyDrive/M2Avignon/ApprocheNeuronales/Donnees/train_test_Etiq.txt\")\n"
      ],
      "metadata": {
        "id": "eWagCfWqB-1C"
      },
      "execution_count": 24,
      "outputs": []
    },
    {
      "cell_type": "code",
      "source": [
        "#2. Apprentissage Version Online et Pocket\n",
        "P_All=208\n",
        "alph=0.1\n",
        "\n",
        "W_TrainTest=genererW(P_All, N)\n",
        "\n",
        "w_all,predAll=versionOnline(W_TrainTest,alph,TrainTestData,TrainTestTestEtiq)\n",
        "\n",
        "\n",
        "#c'est à dire on ne tolère aucune erreur pour qu'il soit linéairement séparable\n",
        "W_pocketAllData = AlgorithmePocket(TrainTestData, TrainTestTestEtiq, alph, 8000, 0, W_TrainTest)\n",
        "\n",
        "print(predAll)\n",
        "\n",
        "\n",
        "print(w_all)\n",
        "\n",
        "\n",
        "print(W_pocketAllData)"
      ],
      "metadata": {
        "colab": {
          "base_uri": "https://localhost:8080/"
        },
        "id": "6LUqoejiD5M0",
        "outputId": "b7155936-2930-4ec6-9d83-10e307a851c1"
      },
      "execution_count": 25,
      "outputs": [
        {
          "output_type": "stream",
          "name": "stdout",
          "text": [
            "11612774\n",
            "[ 1.  1.  1.  1.  1.  1.  1.  1.  1.  1.  1.  1.  1.  1.  1.  1.  1.  1.\n",
            "  1.  1.  1.  1.  1.  1.  1.  1.  1.  1.  1.  1.  1.  1.  1.  1.  1.  1.\n",
            "  1.  1.  1.  1.  1.  1.  1.  1.  1.  1.  1.  1.  1. -1. -1. -1. -1. -1.\n",
            " -1. -1. -1. -1. -1. -1. -1. -1. -1. -1. -1. -1. -1. -1. -1. -1. -1. -1.\n",
            " -1. -1. -1. -1. -1. -1. -1. -1. -1. -1. -1. -1. -1. -1. -1. -1. -1. -1.\n",
            " -1. -1. -1. -1. -1. -1. -1. -1. -1. -1. -1. -1. -1. -1.  1.  1.  1.  1.\n",
            "  1.  1.  1.  1.  1.  1.  1.  1.  1.  1.  1.  1.  1.  1.  1.  1.  1.  1.\n",
            "  1.  1.  1.  1.  1.  1.  1.  1.  1.  1.  1.  1.  1.  1.  1.  1.  1.  1.\n",
            "  1.  1.  1.  1.  1.  1.  1.  1.  1.  1.  1.  1.  1.  1.  1.  1.  1.  1.\n",
            "  1.  1.  1.  1. -1. -1. -1. -1. -1. -1. -1. -1. -1. -1. -1. -1. -1. -1.\n",
            " -1. -1. -1. -1. -1. -1. -1. -1. -1. -1. -1. -1. -1. -1. -1. -1. -1. -1.\n",
            " -1. -1. -1. -1. -1. -1. -1. -1. -1. -1.]\n",
            "[-1.7510000e+01  3.9848380e+01  5.5509000e+00 -6.9372400e+01\n",
            "  3.0668480e+01 -1.3797060e+01  1.8064460e+01 -2.4138880e+01\n",
            " -2.0483160e+01  2.8159180e+01 -1.2103480e+01  1.3707640e+01\n",
            "  2.2566580e+01 -1.1208140e+01  9.8240000e-01  8.3344400e+00\n",
            " -1.3800420e+01 -1.2207020e+01  1.4526300e+01 -1.0181220e+01\n",
            "  2.4924000e+01 -2.8582000e+01  3.4642200e+01 -2.5571620e+01\n",
            "  2.8045900e+01 -1.2047420e+01 -5.3698000e+00  1.0796060e+01\n",
            " -4.9978600e+00 -3.8288000e+00  2.6925040e+01 -3.7345480e+01\n",
            "  1.5014100e+01  8.6600600e+00 -1.5025900e+01  1.1861480e+01\n",
            " -3.2961600e+00 -1.6469720e+01  3.4384800e+00  1.5322140e+01\n",
            " -2.1631820e+01  6.6559400e+00  3.8380800e+00  5.0165400e+00\n",
            "  4.8221400e+00 -4.9906000e+00  1.6571640e+01  4.8200000e-02\n",
            "  3.8771160e+01  5.3878980e+01 -2.3799328e+02  8.2759980e+01\n",
            "  1.4049170e+02  8.8494760e+01  2.0596060e+01  9.9933200e+00\n",
            " -6.0072500e+01 -5.1655120e+01  7.3170020e+01  5.6098540e+01\n",
            "  1.1803860e+01]\n",
            "[-139.11     146.67714   56.49526 -134.87956  240.37348   70.94848\n",
            "   24.58444 -180.0576  -154.79108  137.22662  -43.28504  213.2924\n",
            "   68.9897   -16.47202  -17.23512   39.9898   -39.18608  -96.3355\n",
            "   88.00206   -6.86298    6.12196   -8.24252   44.68642  -14.31354\n",
            "  135.928    -61.41156  -23.77828   40.05438  -21.43502  -10.88114\n",
            "  168.47822 -277.58024  144.23402   14.56516  -71.94982   99.9411\n",
            " -105.6057   -64.02238   22.51896  101.0892  -166.5415    43.2795\n",
            "    5.61706   58.8882    58.55108   87.9129    -1.07448   51.50356\n",
            "  267.29658  219.6376  -103.65846  112.54858   99.71736   52.5684\n",
            "   61.18332   -4.58094   -2.13764  -30.29332   64.5626    65.86208\n",
            "   40.21242]\n"
          ]
        }
      ]
    },
    {
      "cell_type": "code",
      "source": [
        "#Calculer stabilité\n",
        "S=Stabilite( TrainTestTestEtiq,w_all,TrainTestData)\n",
        "print(\"Stabilité\",S)\n",
        "\n",
        "def plotstab(s):\n",
        "    plt.hist(s, range=(-0.5, 0.5), bins=10, facecolor='red', alpha=0.5,edgecolor='blue')\n",
        "    plt.show()\n",
        "print(\"Plot de Stabilité\")\n",
        "plotstab(S)"
      ],
      "metadata": {
        "colab": {
          "base_uri": "https://localhost:8080/",
          "height": 1000
        },
        "id": "0GSspbJ4r9bj",
        "outputId": "5024f130-ea87-4ad9-de89-c7aa825fabb7"
      },
      "execution_count": 26,
      "outputs": [
        {
          "output_type": "stream",
          "name": "stdout",
          "text": [
            "Stabilité [ 2.60470256e-03  2.95600089e-03  3.16418619e-03  3.54105568e-03\n",
            "  7.58658662e-04  6.68378533e-04  8.87341058e-03  4.39093936e-03\n",
            " -1.48778028e-03  1.89040894e-02  1.05599203e-02  2.81109443e-02\n",
            "  2.67357019e-02  3.07342915e-02  2.20562100e-02  6.28213418e-04\n",
            "  4.62534161e-03  2.42135947e-02  8.44894835e-03  4.92582423e-02\n",
            "  8.82274624e-02  3.64924913e-02  3.88323101e-02  4.32105422e-03\n",
            "  1.70633540e-02  9.41335887e-05  2.64062195e-03  1.48588406e-03\n",
            "  2.29056976e-03  2.08634418e-02  2.32789979e-02  9.30965582e-03\n",
            "  2.79857828e-03  2.01513381e-02  3.19704689e-02  2.20490058e-02\n",
            "  3.05543939e-02  4.13433844e-04  3.45659284e-04  2.29634150e-02\n",
            "  6.57063624e-02  4.86713336e-02  3.72009968e-02  6.18529245e-03\n",
            "  2.43863292e-03  3.18164459e-02  5.12923246e-02  1.67394637e-02\n",
            "  9.21502593e-03  1.53225302e-02  3.52264331e-02  2.67097691e-03\n",
            "  2.94984880e-03  1.64028281e-03  5.45318382e-02  1.93642628e-03\n",
            "  1.18540504e-04  1.27868331e-03  1.35153895e-02  6.12181582e-03\n",
            "  6.02209577e-02  3.07165781e-02  2.40574628e-02  4.75968944e-03\n",
            "  1.42334804e-03  3.53730831e-03  2.67500906e-03  6.19778413e-03\n",
            "  1.75044140e-02  4.92704613e-03  8.89132276e-04  5.25069420e-03\n",
            "  2.77191202e-02  4.72068339e-03  1.98677497e-02  4.32440935e-03\n",
            "  5.95523961e-03  7.20499188e-04  7.83908624e-03  3.00596119e-02\n",
            "  6.44570501e-02  2.13467119e-03  2.34063479e-03  3.50653858e-03\n",
            "  3.16929748e-03  1.18280632e-02  2.69406668e-02  6.06726857e-03\n",
            "  2.01545672e-02  6.21516983e-02  2.89980960e-02  2.09218482e-02\n",
            "  1.40207117e-02  3.78211245e-02  3.50917789e-03  3.03313115e-03\n",
            "  3.53804948e-03  1.47949071e-03  3.41602359e-02  5.23188730e-03\n",
            "  6.34478836e-02  1.33039905e-02  3.65724812e-04  3.00000242e-02\n",
            "  8.65214531e-04  4.01136040e-03  1.25479177e-03  1.73191559e-02\n",
            "  2.51237272e-03 -1.16553094e-05  1.09216167e-03  2.76772285e-02\n",
            "  3.26250930e-02  1.48643516e-03  3.35039359e-02  1.11209775e-02\n",
            "  1.87611208e-02  3.16416113e-03  1.45626481e-02  7.35982676e-03\n",
            "  3.75477572e-03  1.11812972e-02  2.11200188e-02  3.26868384e-02\n",
            "  2.56617540e-03  3.82475873e-02  6.48646312e-02  5.02518193e-02\n",
            "  4.07632348e-02  5.40522601e-02  5.85060808e-03  1.07906167e-01\n",
            "  1.63783783e-02  2.95905455e-02  5.74985427e-04  9.98243298e-03\n",
            "  1.89014234e-02  8.17799053e-03  3.01984637e-03  3.42092776e-02\n",
            "  4.18291497e-03  1.52894802e-02  1.47614709e-02  2.19490851e-02\n",
            "  3.92073505e-02  3.62377192e-02  3.20804462e-02  8.56297521e-02\n",
            "  6.40102232e-02  5.68175934e-02  6.30829099e-02  1.43614316e-02\n",
            "  2.55439610e-02  8.60670843e-03  2.15137592e-02  3.47973302e-04\n",
            "  8.19693946e-03  2.63751771e-02  3.71742681e-02  4.51810298e-02\n",
            "  4.33338044e-02  2.73767102e-02  6.67532035e-03  2.35772337e-02\n",
            "  9.05889870e-03  1.02431691e-02  3.18465901e-02  2.93552542e-03\n",
            "  4.57936041e-02  1.15168990e-03  3.09000689e-02  3.04029876e-03\n",
            "  3.28591635e-02  1.11780351e-03  2.49231695e-02  6.78127541e-03\n",
            "  9.09863230e-03  2.50827282e-02  1.69777063e-02  3.90462272e-03\n",
            "  5.57277412e-03  4.62148531e-02  5.42238101e-03  4.08244059e-03\n",
            "  7.56889222e-03  3.53223379e-03  1.35185570e-02  1.03780973e-02\n",
            "  1.18155083e-02  9.12685325e-03  4.76426626e-02  5.71766962e-02\n",
            "  6.01219344e-02  2.86329914e-02  1.90246806e-02  2.40888643e-02\n",
            " -1.57112954e-03  1.64983145e-02  4.28555928e-02  2.86614738e-02\n",
            "  9.00024160e-04  5.26311602e-03  3.22102538e-02  1.94878218e-02\n",
            "  1.06610576e-02  3.96404279e-02  1.76591686e-03  3.59877056e-03]\n",
            "Plot de Stabilité\n"
          ]
        },
        {
          "output_type": "display_data",
          "data": {
            "image/png": "[encoded data removed]",
            "text/plain": [
              "<Figure size 432x288 with 1 Axes>"
            ]
          },
          "metadata": {
            "needs_background": "light"
          }
        }
      ]
    },
    {
      "cell_type": "markdown",
      "source": [
        "sources :\n",
        "\n",
        "https://www.geeksforgeeks.org/hebbian-learning-rule-with-implementation-of-and-gate/\n",
        "\n",
        "\n",
        "http://webcache.googleusercontent.com/search?q=cache:vu5HrFkOBGcJ:www.info2.uqam.ca/~boukadoum_m/DIC9310/Notes/4-5-DIC9310%2520RNA.doc+&cd=3&hl=fr&ct=clnk&gl=fr\n",
        "\n",
        "\n",
        "https://tel.archives-ouvertes.fr/tel-00390069/file/these_torres_presentation.pdf\n",
        "\n"
      ],
      "metadata": {
        "id": "1Wf8d17XK3uG"
      }
    }
  ]
}